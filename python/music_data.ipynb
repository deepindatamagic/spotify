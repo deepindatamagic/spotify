{
  "nbformat": 4,
  "nbformat_minor": 0,
  "metadata": {
    "colab": {
      "name": "music_data.ipynb",
      "provenance": [],
      "collapsed_sections": []
    },
    "kernelspec": {
      "name": "python3",
      "display_name": "Python 3"
    },
    "language_info": {
      "name": "python"
    }
  },
  "cells": [
    {
      "cell_type": "code",
      "metadata": {
        "id": "GWDmMYTLkXol"
      },
      "source": [
        "from __future__ import absolute_import, division, print_function\n",
        "\n",
        "import numpy as np\n",
        "import pandas as pd\n",
        "import re"
      ],
      "execution_count": 1,
      "outputs": []
    },
    {
      "cell_type": "code",
      "metadata": {
        "id": "5SClM_aTvVjC"
      },
      "source": [
        "music_data = pd.read_csv('/content/drive/MyDrive/Datasets/music/data.csv')"
      ],
      "execution_count": 29,
      "outputs": []
    },
    {
      "cell_type": "code",
      "metadata": {
        "id": "niMeYHfnvozr"
      },
      "source": [
        "print('Music data:')\n",
        "print(music_data.info())"
      ],
      "execution_count": null,
      "outputs": []
    },
    {
      "cell_type": "code",
      "metadata": {
        "id": "5JbXLLk8vp49"
      },
      "source": [
        "print(music_data.artists)"
      ],
      "execution_count": null,
      "outputs": []
    },
    {
      "cell_type": "code",
      "metadata": {
        "id": "oGSAiQsHwYBE"
      },
      "source": [
        "# get the column names\n",
        "print('The column names:', music_data.columns)"
      ],
      "execution_count": null,
      "outputs": []
    },
    {
      "cell_type": "code",
      "metadata": {
        "id": "ji78X177wjTS"
      },
      "source": [
        "features_list = music_data.columns.tolist()"
      ],
      "execution_count": 32,
      "outputs": []
    },
    {
      "cell_type": "code",
      "metadata": {
        "colab": {
          "base_uri": "https://localhost:8080/"
        },
        "id": "xJGCm-Zewo2v",
        "outputId": "0681cbc5-4670-4bcd-865c-986477be2e03"
      },
      "source": [
        "print(features_list)"
      ],
      "execution_count": 33,
      "outputs": [
        {
          "output_type": "stream",
          "text": [
            "['valence', 'year', 'acousticness', 'artists', 'danceability', 'duration_ms', 'energy', 'explicit', 'id', 'instrumentalness', 'key', 'liveness', 'loudness', 'mode', 'name', 'popularity', 'release_date', 'speechiness', 'tempo']\n"
          ],
          "name": "stdout"
        }
      ]
    },
    {
      "cell_type": "code",
      "metadata": {
        "id": "CBLCVhNewv2n"
      },
      "source": [
        "#['valence', 'year', 'acousticness', 'artists', 'danceability', 'duration_ms', 'energy', 'explicit', 'id', 'instrumentalness', 'key', 'liveness', 'loudness', 'mode', 'name', 'popularity', 'release_date', 'speechiness', 'tempo']"
      ],
      "execution_count": null,
      "outputs": []
    },
    {
      "cell_type": "code",
      "metadata": {
        "id": "v21eq8kPwwJc"
      },
      "source": [
        "columns_reorder = ['id', 'name', 'artists', 'popularity', 'year', 'release_date', 'valence',  'acousticness', 'danceability', 'energy', 'instrumentalness', 'liveness', 'loudness', 'speechiness', 'tempo', 'key', 'mode', 'explicit', 'duration_ms']"
      ],
      "execution_count": 34,
      "outputs": []
    },
    {
      "cell_type": "code",
      "metadata": {
        "id": "Er2CKBKHyrhL"
      },
      "source": [
        "columns_reorder = ['id', 'name', 'artists', 'popularity', 'year', 'release_date', 'valence',  'acousticness', 'danceability', 'energy', 'instrumentalness', 'liveness', 'loudness', 'speechiness', 'tempo', 'key', 'mode', 'explicit', 'duration_ms', 'hello']"
      ],
      "execution_count": 18,
      "outputs": []
    },
    {
      "cell_type": "code",
      "metadata": {
        "id": "nldg-Wdkx13E"
      },
      "source": [
        "# reorder the columns\n",
        "music_data = music_data.reindex(columns = columns_reorder)"
      ],
      "execution_count": 35,
      "outputs": []
    },
    {
      "cell_type": "code",
      "metadata": {
        "id": "NlFEiBZgyAdC"
      },
      "source": [
        "music_data.head()"
      ],
      "execution_count": null,
      "outputs": []
    },
    {
      "cell_type": "code",
      "metadata": {
        "id": "TvDCSVgDyN1g"
      },
      "source": [
        "music_data.info()"
      ],
      "execution_count": null,
      "outputs": []
    },
    {
      "cell_type": "code",
      "metadata": {
        "id": "z4ETbYTA0JcX"
      },
      "source": [
        "# set new index\n",
        "music_data.set_index('id', inplace=True)"
      ],
      "execution_count": 37,
      "outputs": []
    },
    {
      "cell_type": "code",
      "metadata": {
        "id": "upg0qkFh0YUM"
      },
      "source": [
        "music_data.head()"
      ],
      "execution_count": null,
      "outputs": []
    },
    {
      "cell_type": "code",
      "metadata": {
        "id": "Ug3qbXEo0fcH"
      },
      "source": [
        "music_data.tail()"
      ],
      "execution_count": null,
      "outputs": []
    },
    {
      "cell_type": "code",
      "metadata": {
        "id": "yed3czB209rI"
      },
      "source": [
        "music_data['artists'] = music_data['artists'].apply(lambda x: x.strip('[]'))"
      ],
      "execution_count": 27,
      "outputs": []
    },
    {
      "cell_type": "code",
      "metadata": {
        "id": "pn2ibZaW1B35"
      },
      "source": [
        "music_data.artists"
      ],
      "execution_count": null,
      "outputs": []
    },
    {
      "cell_type": "code",
      "metadata": {
        "id": "4keVc3gb1oVB"
      },
      "source": [
        "for idx, text in enumerate(music_data.artists):\n",
        "  \n",
        "    print(text)\n",
        "    print(idx)\n",
        "\n",
        "    string = re.search(r'\\[(.*?)\\]', text).group(1)\n",
        "    \n",
        "    if string:\n",
        "        music_data['artists'][idx] = string"
      ],
      "execution_count": null,
      "outputs": []
    },
    {
      "cell_type": "code",
      "metadata": {
        "id": "WYBGDY6y3fX8"
      },
      "source": [
        "music_data.head()"
      ],
      "execution_count": null,
      "outputs": []
    },
    {
      "cell_type": "code",
      "metadata": {
        "id": "PggK85wZ4LUB"
      },
      "source": [
        "music_data['artists'] = music_data['artists'].apply(lambda x: x.replace(\"'\",''))"
      ],
      "execution_count": null,
      "outputs": []
    },
    {
      "cell_type": "code",
      "metadata": {
        "id": "oKTxFQiL4c_D"
      },
      "source": [
        "music_data.to_csv('/content/drive/MyDrive/Datasets/music/data.csv')"
      ],
      "execution_count": 43,
      "outputs": []
    }
  ]
}